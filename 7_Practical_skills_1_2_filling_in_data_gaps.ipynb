{
  "cells": [
    {
      "cell_type": "markdown",
      "metadata": {
        "colab_type": "text",
        "id": "view-in-github"
      },
      "source": [
        "<a href=\"https://colab.research.google.com/github/AleksandrRevuka/Algo_data_science/blob/main/7_Practical_skills_1_2_filling_in_data_gaps.ipynb\" target=\"_parent\"><img src=\"https://colab.research.google.com/assets/colab-badge.svg\" alt=\"Open In Colab\"/></a>"
      ]
    },
    {
      "cell_type": "markdown",
      "metadata": {
        "id": "fsAT3Cpds0J1"
      },
      "source": [
        "# Filling in data gaps:"
      ]
    },
    {
      "cell_type": "code",
      "execution_count": 2,
      "metadata": {
        "id": "ytCxr5Oosgv4"
      },
      "outputs": [],
      "source": [
        "import pandas as pd\n",
        "import numpy as np\n",
        "\n",
        "from sklearn.model_selection import train_test_split\n",
        "from sklearn.linear_model import LinearRegression"
      ]
    },
    {
      "cell_type": "code",
      "execution_count": 3,
      "metadata": {
        "id": "t25Kh5fMtELG"
      },
      "outputs": [],
      "source": [
        "buildings = pd.read_csv(\"http://video.ittensive.com/machine-learning/ashrae/building_metadata.csv.gz\")\n",
        "weather = pd.read_csv(\"http://video.ittensive.com/machine-learning/ashrae/weather_train.csv.gz\")\n",
        "energy = pd.read_csv(\"http://video.ittensive.com/machine-learning/ashrae/train.0.csv.gz\")"
      ]
    },
    {
      "cell_type": "code",
      "execution_count": 4,
      "metadata": {
        "id": "42IUDsR1tUB_"
      },
      "outputs": [],
      "source": [
        "energy = energy[energy['building_id'] == 0]"
      ]
    },
    {
      "cell_type": "code",
      "execution_count": 5,
      "metadata": {
        "colab": {
          "base_uri": "https://localhost:8080/"
        },
        "id": "nJB1lqVGtd2_",
        "outputId": "5e5f21a1-90d6-49ed-af2a-2ede5ba2a25d"
      },
      "outputs": [
        {
          "name": "stdout",
          "output_type": "stream",
          "text": [
            "<class 'pandas.core.frame.DataFrame'>\n",
            "RangeIndex: 8784 entries, 0 to 8783\n",
            "Data columns (total 13 columns):\n",
            " #   Column              Non-Null Count  Dtype  \n",
            "---  ------              --------------  -----  \n",
            " 0   timestamp           8784 non-null   object \n",
            " 1   building_id         8784 non-null   int64  \n",
            " 2   meter_reading       8784 non-null   float64\n",
            " 3   primary_use         8784 non-null   object \n",
            " 4   square_feet         8784 non-null   int64  \n",
            " 5   year_built          8784 non-null   float64\n",
            " 6   air_temperature     8781 non-null   float64\n",
            " 7   cloud_coverage      4954 non-null   float64\n",
            " 8   dew_temperature     8781 non-null   float64\n",
            " 9   precip_depth_1_hr   8783 non-null   float64\n",
            " 10  sea_level_pressure  8699 non-null   float64\n",
            " 11  wind_direction      8534 non-null   float64\n",
            " 12  wind_speed          8784 non-null   float64\n",
            "dtypes: float64(9), int64(2), object(2)\n",
            "memory usage: 892.3+ KB\n"
          ]
        }
      ],
      "source": [
        "energy = pd.merge(left=energy, right=buildings, how=\"left\", left_on=\"building_id\", right_on=\"building_id\")\n",
        "\n",
        "energy = energy.set_index([\"timestamp\", \"site_id\"])\n",
        "weather = weather.set_index([\"timestamp\", \"site_id\"])\n",
        "\n",
        "energy = pd.merge(left=energy, right=weather, how=\"left\", left_index=True, right_index=True)\n",
        "energy.reset_index(inplace=True)\n",
        "energy = energy.drop(columns=[\"meter\", \"site_id\", \"floor_count\"], axis=1)\n",
        "\n",
        "del buildings\n",
        "del weather\n",
        "\n",
        "energy.info()"
      ]
    },
    {
      "cell_type": "code",
      "execution_count": 7,
      "metadata": {
        "id": "9WKseUqEue6x"
      },
      "outputs": [],
      "source": [
        "def reduce_mem_usage(df):\n",
        "  start_mem = df.memory_usage().sum() / 1024 ** 2\n",
        "  for col in df.columns:\n",
        "    col_type = df[col].dtypes\n",
        "    if str(col_type)[:5] == \"float\":\n",
        "      c_min = df[col].min()\n",
        "      c_max = df[col].max()\n",
        "      if c_min > np.finfo(\"f2\").min and c_max < np.finfo(\"f2\").max:\n",
        "        df[col] = df[col].astype(np.float16)\n",
        "      elif c_min > np.finfo(\"f4\").min and c_max < np.finfo(\"f4\").max:\n",
        "        df[col] = df[col].astype(np.float32)\n",
        "      else:\n",
        "        df[col] = df[col].astype(np.float64)\n",
        "    elif str(col_type)[:3] == \"int\":\n",
        "        c_min = df[col].min()\n",
        "        c_max = df[col].max()\n",
        "        if c_min > np.iinfo(np.int8).min and c_max < np.iinfo(np.int8).max:\n",
        "            df[col] = df[col].astype(np.int8)\n",
        "        elif c_min > np.iinfo(np.int16).min and c_max < np.iinfo(np.int16).max:\n",
        "            df[col] = df[col].astype(np.int16)\n",
        "        elif c_min > np.iinfo(np.int32).min and c_max < np.iinfo(np.int32).max:\n",
        "            df[col] = df[col].astype(np.int32)\n",
        "        elif c_min > np.iinfo(np.int64).min and c_max < np.iinfo(np.int64).max:\n",
        "            df[col] = df[col].astype(np.int64)\n",
        "    elif col == \"timestamp\":\n",
        "      df[col] = pd.to_datetime(df[col])\n",
        "    elif str(col_type)[:8] != \"dataetime\":\n",
        "      df[col] = df[col].astype(\"category\")\n",
        "  end_mem = df.memory_usage().sum() / 1024 ** 2\n",
        "  print(f\"Споживання памяті меньше на {round(start_mem - end_mem, 2)}Mb (мінус {round(100 * (start_mem - end_mem) / start_mem, 1)}%)\")\n",
        "  return df"
      ]
    },
    {
      "cell_type": "code",
      "execution_count": 8,
      "metadata": {
        "colab": {
          "base_uri": "https://localhost:8080/"
        },
        "id": "3R3c2mxLukBp",
        "outputId": "768b00e8-b798-45a4-a2bf-1e7c419d4813"
      },
      "outputs": [
        {
          "name": "stdout",
          "output_type": "stream",
          "text": [
            "Споживання памяті меньше на 0.62Mb (мінус 71.1%)\n"
          ]
        }
      ],
      "source": [
        "energy = reduce_mem_usage(energy)"
      ]
    },
    {
      "cell_type": "code",
      "execution_count": 9,
      "metadata": {
        "id": "LF-KXHEZvL1P"
      },
      "outputs": [],
      "source": [
        "energy['precip_depth_1_hr'] = energy['precip_depth_1_hr'].apply(lambda x: x if x > 0 else 0)\n",
        "interpolate_columns = [\"air_temperature\", \"dew_temperature\", \"cloud_coverage\", \"wind_speed\", \"precip_depth_1_hr\", \"sea_level_pressure\"]\n",
        "\n",
        "for col in interpolate_columns:\n",
        "  energy[col] = energy[col].interpolate(limit_direction=\"both\", kind=\"cubic\")"
      ]
    },
    {
      "cell_type": "code",
      "execution_count": 10,
      "metadata": {
        "colab": {
          "base_uri": "https://localhost:8080/"
        },
        "id": "oRL0flDH8ub5",
        "outputId": "f8d7f682-143c-42cf-a11b-d33dfafdd1d2"
      },
      "outputs": [
        {
          "name": "stdout",
          "output_type": "stream",
          "text": [
            "air_temperature Inf+NaN: 0\n",
            "dew_temperature Inf+NaN: 0\n",
            "cloud_coverage Inf+NaN: 0\n",
            "wind_speed Inf+NaN: 0\n",
            "precip_depth_1_hr Inf+NaN: 0\n",
            "sea_level_pressure Inf+NaN: 0\n"
          ]
        },
        {
          "name": "stderr",
          "output_type": "stream",
          "text": [
            "/tmp/ipykernel_15478/2092351523.py:1: FutureWarning: use_inf_as_na option is deprecated and will be removed in a future version. Convert inf values to NaN before operating instead.\n",
            "  pd.set_option(\"use_inf_as_na\", True)\n"
          ]
        }
      ],
      "source": [
        "pd.set_option(\"use_inf_as_na\", True)\n",
        "for col in interpolate_columns:\n",
        "  print(f\"{col} Inf+NaN: {energy[col].isnull().sum()}\")"
      ]
    },
    {
      "cell_type": "code",
      "execution_count": 11,
      "metadata": {
        "colab": {
          "base_uri": "https://localhost:8080/",
          "height": 424
        },
        "id": "u4J4K3TC9ZbO",
        "outputId": "2a3153b6-b6e5-4063-a0da-17068b858165"
      },
      "outputs": [
        {
          "data": {
            "text/html": [
              "<div>\n",
              "<style scoped>\n",
              "    .dataframe tbody tr th:only-of-type {\n",
              "        vertical-align: middle;\n",
              "    }\n",
              "\n",
              "    .dataframe tbody tr th {\n",
              "        vertical-align: top;\n",
              "    }\n",
              "\n",
              "    .dataframe thead th {\n",
              "        text-align: right;\n",
              "    }\n",
              "</style>\n",
              "<table border=\"1\" class=\"dataframe\">\n",
              "  <thead>\n",
              "    <tr style=\"text-align: right;\">\n",
              "      <th></th>\n",
              "      <th>timestamp</th>\n",
              "      <th>building_id</th>\n",
              "      <th>meter_reading</th>\n",
              "      <th>primary_use</th>\n",
              "      <th>square_feet</th>\n",
              "      <th>year_built</th>\n",
              "      <th>air_temperature</th>\n",
              "      <th>cloud_coverage</th>\n",
              "      <th>dew_temperature</th>\n",
              "      <th>precip_depth_1_hr</th>\n",
              "      <th>sea_level_pressure</th>\n",
              "      <th>wind_direction</th>\n",
              "      <th>wind_speed</th>\n",
              "    </tr>\n",
              "  </thead>\n",
              "  <tbody>\n",
              "    <tr>\n",
              "      <th>6539</th>\n",
              "      <td>2016-09-29 11:00:00</td>\n",
              "      <td>0</td>\n",
              "      <td>246.3750</td>\n",
              "      <td>Education</td>\n",
              "      <td>7432</td>\n",
              "      <td>2008.0</td>\n",
              "      <td>22.796875</td>\n",
              "      <td>2.000000</td>\n",
              "      <td>21.703125</td>\n",
              "      <td>0.0</td>\n",
              "      <td>1016.5</td>\n",
              "      <td>0.0</td>\n",
              "      <td>0.000000</td>\n",
              "    </tr>\n",
              "    <tr>\n",
              "      <th>3533</th>\n",
              "      <td>2016-05-27 05:00:00</td>\n",
              "      <td>0</td>\n",
              "      <td>206.8750</td>\n",
              "      <td>Education</td>\n",
              "      <td>7432</td>\n",
              "      <td>2008.0</td>\n",
              "      <td>23.296875</td>\n",
              "      <td>5.000000</td>\n",
              "      <td>17.203125</td>\n",
              "      <td>0.0</td>\n",
              "      <td>1018.5</td>\n",
              "      <td>50.0</td>\n",
              "      <td>4.601562</td>\n",
              "    </tr>\n",
              "    <tr>\n",
              "      <th>3741</th>\n",
              "      <td>2016-06-04 21:00:00</td>\n",
              "      <td>0</td>\n",
              "      <td>241.0000</td>\n",
              "      <td>Education</td>\n",
              "      <td>7432</td>\n",
              "      <td>2008.0</td>\n",
              "      <td>32.812500</td>\n",
              "      <td>4.000000</td>\n",
              "      <td>21.703125</td>\n",
              "      <td>0.0</td>\n",
              "      <td>1013.5</td>\n",
              "      <td>110.0</td>\n",
              "      <td>7.199219</td>\n",
              "    </tr>\n",
              "    <tr>\n",
              "      <th>8314</th>\n",
              "      <td>2016-12-12 10:00:00</td>\n",
              "      <td>0</td>\n",
              "      <td>71.6875</td>\n",
              "      <td>Education</td>\n",
              "      <td>7432</td>\n",
              "      <td>2008.0</td>\n",
              "      <td>17.796875</td>\n",
              "      <td>4.332031</td>\n",
              "      <td>17.796875</td>\n",
              "      <td>0.0</td>\n",
              "      <td>1019.0</td>\n",
              "      <td>0.0</td>\n",
              "      <td>0.000000</td>\n",
              "    </tr>\n",
              "    <tr>\n",
              "      <th>8216</th>\n",
              "      <td>2016-12-08 08:00:00</td>\n",
              "      <td>0</td>\n",
              "      <td>93.5000</td>\n",
              "      <td>Education</td>\n",
              "      <td>7432</td>\n",
              "      <td>2008.0</td>\n",
              "      <td>15.601562</td>\n",
              "      <td>0.000000</td>\n",
              "      <td>13.898438</td>\n",
              "      <td>0.0</td>\n",
              "      <td>1019.5</td>\n",
              "      <td>320.0</td>\n",
              "      <td>3.099609</td>\n",
              "    </tr>\n",
              "    <tr>\n",
              "      <th>...</th>\n",
              "      <td>...</td>\n",
              "      <td>...</td>\n",
              "      <td>...</td>\n",
              "      <td>...</td>\n",
              "      <td>...</td>\n",
              "      <td>...</td>\n",
              "      <td>...</td>\n",
              "      <td>...</td>\n",
              "      <td>...</td>\n",
              "      <td>...</td>\n",
              "      <td>...</td>\n",
              "      <td>...</td>\n",
              "      <td>...</td>\n",
              "    </tr>\n",
              "    <tr>\n",
              "      <th>6406</th>\n",
              "      <td>2016-09-23 22:00:00</td>\n",
              "      <td>0</td>\n",
              "      <td>234.1250</td>\n",
              "      <td>Education</td>\n",
              "      <td>7432</td>\n",
              "      <td>2008.0</td>\n",
              "      <td>31.093750</td>\n",
              "      <td>4.000000</td>\n",
              "      <td>23.906250</td>\n",
              "      <td>0.0</td>\n",
              "      <td>1014.5</td>\n",
              "      <td>70.0</td>\n",
              "      <td>5.101562</td>\n",
              "    </tr>\n",
              "    <tr>\n",
              "      <th>4695</th>\n",
              "      <td>2016-07-14 15:00:00</td>\n",
              "      <td>0</td>\n",
              "      <td>302.2500</td>\n",
              "      <td>Education</td>\n",
              "      <td>7432</td>\n",
              "      <td>2008.0</td>\n",
              "      <td>31.093750</td>\n",
              "      <td>4.000000</td>\n",
              "      <td>22.796875</td>\n",
              "      <td>0.0</td>\n",
              "      <td>1020.5</td>\n",
              "      <td>160.0</td>\n",
              "      <td>4.601562</td>\n",
              "    </tr>\n",
              "    <tr>\n",
              "      <th>4945</th>\n",
              "      <td>2016-07-25 01:00:00</td>\n",
              "      <td>0</td>\n",
              "      <td>245.7500</td>\n",
              "      <td>Education</td>\n",
              "      <td>7432</td>\n",
              "      <td>2008.0</td>\n",
              "      <td>26.093750</td>\n",
              "      <td>4.000000</td>\n",
              "      <td>21.093750</td>\n",
              "      <td>0.0</td>\n",
              "      <td>1017.5</td>\n",
              "      <td>190.0</td>\n",
              "      <td>2.599609</td>\n",
              "    </tr>\n",
              "    <tr>\n",
              "      <th>7979</th>\n",
              "      <td>2016-11-28 11:00:00</td>\n",
              "      <td>0</td>\n",
              "      <td>196.6250</td>\n",
              "      <td>Education</td>\n",
              "      <td>7432</td>\n",
              "      <td>2008.0</td>\n",
              "      <td>15.601562</td>\n",
              "      <td>2.000000</td>\n",
              "      <td>11.703125</td>\n",
              "      <td>0.0</td>\n",
              "      <td>1017.5</td>\n",
              "      <td>60.0</td>\n",
              "      <td>2.599609</td>\n",
              "    </tr>\n",
              "    <tr>\n",
              "      <th>6370</th>\n",
              "      <td>2016-09-22 10:00:00</td>\n",
              "      <td>0</td>\n",
              "      <td>245.0000</td>\n",
              "      <td>Education</td>\n",
              "      <td>7432</td>\n",
              "      <td>2008.0</td>\n",
              "      <td>25.000000</td>\n",
              "      <td>2.000000</td>\n",
              "      <td>23.296875</td>\n",
              "      <td>0.0</td>\n",
              "      <td>1014.5</td>\n",
              "      <td>0.0</td>\n",
              "      <td>0.000000</td>\n",
              "    </tr>\n",
              "  </tbody>\n",
              "</table>\n",
              "<p>4328 rows × 13 columns</p>\n",
              "</div>"
            ],
            "text/plain": [
              "               timestamp  building_id  meter_reading primary_use  square_feet  \\\n",
              "6539 2016-09-29 11:00:00            0       246.3750   Education         7432   \n",
              "3533 2016-05-27 05:00:00            0       206.8750   Education         7432   \n",
              "3741 2016-06-04 21:00:00            0       241.0000   Education         7432   \n",
              "8314 2016-12-12 10:00:00            0        71.6875   Education         7432   \n",
              "8216 2016-12-08 08:00:00            0        93.5000   Education         7432   \n",
              "...                  ...          ...            ...         ...          ...   \n",
              "6406 2016-09-23 22:00:00            0       234.1250   Education         7432   \n",
              "4695 2016-07-14 15:00:00            0       302.2500   Education         7432   \n",
              "4945 2016-07-25 01:00:00            0       245.7500   Education         7432   \n",
              "7979 2016-11-28 11:00:00            0       196.6250   Education         7432   \n",
              "6370 2016-09-22 10:00:00            0       245.0000   Education         7432   \n",
              "\n",
              "      year_built  air_temperature  cloud_coverage  dew_temperature  \\\n",
              "6539      2008.0        22.796875        2.000000        21.703125   \n",
              "3533      2008.0        23.296875        5.000000        17.203125   \n",
              "3741      2008.0        32.812500        4.000000        21.703125   \n",
              "8314      2008.0        17.796875        4.332031        17.796875   \n",
              "8216      2008.0        15.601562        0.000000        13.898438   \n",
              "...          ...              ...             ...              ...   \n",
              "6406      2008.0        31.093750        4.000000        23.906250   \n",
              "4695      2008.0        31.093750        4.000000        22.796875   \n",
              "4945      2008.0        26.093750        4.000000        21.093750   \n",
              "7979      2008.0        15.601562        2.000000        11.703125   \n",
              "6370      2008.0        25.000000        2.000000        23.296875   \n",
              "\n",
              "      precip_depth_1_hr  sea_level_pressure  wind_direction  wind_speed  \n",
              "6539                0.0              1016.5             0.0    0.000000  \n",
              "3533                0.0              1018.5            50.0    4.601562  \n",
              "3741                0.0              1013.5           110.0    7.199219  \n",
              "8314                0.0              1019.0             0.0    0.000000  \n",
              "8216                0.0              1019.5           320.0    3.099609  \n",
              "...                 ...                 ...             ...         ...  \n",
              "6406                0.0              1014.5            70.0    5.101562  \n",
              "4695                0.0              1020.5           160.0    4.601562  \n",
              "4945                0.0              1017.5           190.0    2.599609  \n",
              "7979                0.0              1017.5            60.0    2.599609  \n",
              "6370                0.0              1014.5             0.0    0.000000  \n",
              "\n",
              "[4328 rows x 13 columns]"
            ]
          },
          "execution_count": 11,
          "metadata": {},
          "output_type": "execute_result"
        }
      ],
      "source": [
        "energy_train, energy_test = train_test_split(energy[energy['meter_reading'] > 0], test_size=0.2)\n",
        "energy_train"
      ]
    },
    {
      "cell_type": "code",
      "execution_count": 12,
      "metadata": {
        "colab": {
          "base_uri": "https://localhost:8080/"
        },
        "id": "06q7DMOa_GHs",
        "outputId": "eaac012f-fb13-407d-8cfe-3030fd84ca66"
      },
      "outputs": [
        {
          "name": "stdout",
          "output_type": "stream",
          "text": [
            "[ 2.56528978  3.68587491 -2.72897877 -2.18945698  0.18578342 -1.00089464] 1138.6586408833064\n"
          ]
        }
      ],
      "source": [
        "regression_columns = [\"meter_reading\", \"air_temperature\", \"dew_temperature\", \"cloud_coverage\", \"wind_speed\", \"precip_depth_1_hr\", \"sea_level_pressure\"]\n",
        "\n",
        "energy_train_lr = pd.DataFrame(energy_train, columns=regression_columns)\n",
        "\n",
        "y = energy_train_lr[\"meter_reading\"]\n",
        "x = energy_train_lr.drop(labels=[\"meter_reading\"], axis=1)\n",
        "model = LinearRegression().fit(x, y)\n",
        "print(model.coef_, model.intercept_)"
      ]
    },
    {
      "cell_type": "code",
      "execution_count": 13,
      "metadata": {
        "colab": {
          "base_uri": "https://localhost:8080/"
        },
        "id": "S8JTGX02AVjs",
        "outputId": "c1d1527b-2e17-49a6-8be3-181ce16f46d2"
      },
      "outputs": [
        {
          "name": "stdout",
          "output_type": "stream",
          "text": [
            "Якість лінійної регресії: 0.21765222681105229 0.2\n"
          ]
        }
      ],
      "source": [
        "def calculate_model(x):\n",
        "  lr = np.sum([x[col] * model.coef_[i] for i, col in enumerate(regression_columns[1:])])\n",
        "  lr += model.intercept_\n",
        "  x[\"meter_reading_lr_q\"] = (np.log(1 + x.meter_reading) - np.log(1 + lr)) ** 2\n",
        "  return x\n",
        "\n",
        "energy_test = energy_test.apply(calculate_model, axis=1, result_type=\"expand\")\n",
        "energy_train_lr_rmsle = np.sqrt(energy_test['meter_reading_lr_q'].sum() / len(energy_test))\n",
        "print (f\"Якість лінійної регресії: {energy_train_lr_rmsle} {round(energy_train_lr_rmsle, 1)}\")"
      ]
    }
  ],
  "metadata": {
    "colab": {
      "authorship_tag": "ABX9TyOWOqOlqBuqizXkNIoDVPk5",
      "include_colab_link": true,
      "provenance": []
    },
    "kernelspec": {
      "display_name": "Python 3",
      "name": "python3"
    },
    "language_info": {
      "codemirror_mode": {
        "name": "ipython",
        "version": 3
      },
      "file_extension": ".py",
      "mimetype": "text/x-python",
      "name": "python",
      "nbconvert_exporter": "python",
      "pygments_lexer": "ipython3",
      "version": "3.11.4"
    }
  },
  "nbformat": 4,
  "nbformat_minor": 0
}
