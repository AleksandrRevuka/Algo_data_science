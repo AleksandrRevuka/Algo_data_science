{
  "nbformat": 4,
  "nbformat_minor": 0,
  "metadata": {
    "colab": {
      "provenance": [],
      "authorship_tag": "ABX9TyPbHSTvwHX0oV0Af9d99YGF",
      "include_colab_link": true
    },
    "kernelspec": {
      "name": "python3",
      "display_name": "Python 3"
    },
    "language_info": {
      "name": "python"
    }
  },
  "cells": [
    {
      "cell_type": "markdown",
      "metadata": {
        "id": "view-in-github",
        "colab_type": "text"
      },
      "source": [
        "<a href=\"https://colab.research.google.com/github/AleksandrRevuka/Algo_data_science/blob/main/6_Practical_skills_1_2_EDA.ipynb\" target=\"_parent\"><img src=\"https://colab.research.google.com/assets/colab-badge.svg\" alt=\"Open In Colab\"/></a>"
      ]
    },
    {
      "cell_type": "markdown",
      "source": [
        "# EDA:"
      ],
      "metadata": {
        "id": "hVCI-VSY8IwX"
      }
    },
    {
      "cell_type": "code",
      "execution_count": 9,
      "metadata": {
        "id": "v3hEYKf17mGs"
      },
      "outputs": [],
      "source": [
        "import pandas as pd\n",
        "import numpy as np\n",
        "import matplotlib.pyplot as plt\n",
        "from scipy.interpolate import interp1d\n",
        "import seaborn as sns"
      ]
    },
    {
      "cell_type": "code",
      "source": [
        "buildings = pd.read_csv(\"http://video.ittensive.com/machine-learning/ashrae/building_metadata.csv.gz\")\n",
        "weather = pd.read_csv(\"http://video.ittensive.com/machine-learning/ashrae/weather_train.csv.gz\")\n",
        "energy = pd.read_csv(\"http://video.ittensive.com/machine-learning/ashrae/train.0.csv.gz\")"
      ],
      "metadata": {
        "id": "OC__E1fe8FtH"
      },
      "execution_count": 2,
      "outputs": []
    },
    {
      "cell_type": "code",
      "source": [
        "def reduce_mem_usage(df):\n",
        "  start_mem = df.memory_usage().sum() / 1024 ** 2\n",
        "  for col in df.columns:\n",
        "    col_type = df[col].dtypes\n",
        "    if str(col_type)[:5] == \"float\":\n",
        "      c_min = df[col].min()\n",
        "      c_max = df[col].max()\n",
        "      if c_min > np.finfo(\"f2\").min and c_max < np.finfo(\"f2\").max:\n",
        "        df[col] = df[col].astype(np.float16)\n",
        "      elif c_min > np.finfo(\"f4\").min and c_max < np.finfo(\"f4\").max:\n",
        "        df[col] = df[col].astype(np.float32)\n",
        "      else:\n",
        "        df[col] = df[col].astype(np.float64)\n",
        "    elif str(col_type)[:3] == \"int\":\n",
        "        c_min = df[col].min()\n",
        "        c_max = df[col].max()\n",
        "        if c_min > np.iinfo(np.int8).min and c_max < np.iinfo(np.int8).max:\n",
        "            df[col] = df[col].astype(np.int8)\n",
        "        elif c_min > np.iinfo(np.int16).min and c_max < np.iinfo(np.int16).max:\n",
        "            df[col] = df[col].astype(np.int16)\n",
        "        elif c_min > np.iinfo(np.int32).min and c_max < np.iinfo(np.int32).max:\n",
        "            df[col] = df[col].astype(np.int32)\n",
        "        elif c_min > np.iinfo(np.int64).min and c_max < np.iinfo(np.int64).max:\n",
        "            df[col] = df[col].astype(np.int64)\n",
        "    elif col == \"timestamp\":\n",
        "      df[col] = pd.to_datetime(df[col])\n",
        "    elif str(col_type)[:8] != \"dataetime\":\n",
        "      df[col] = df[col].astype(\"category\")\n",
        "  end_mem = df.memory_usage().sum() / 1024 ** 2\n",
        "  print(f\"Споживання памяті меньше на {round(start_mem - end_mem, 2)}Mb (мінус {round(100 * (start_mem - end_mem) / start_mem, 1)}%)\")\n",
        "  return df"
      ],
      "metadata": {
        "id": "4nfwfsUM8Mh7"
      },
      "execution_count": 4,
      "outputs": []
    },
    {
      "cell_type": "code",
      "source": [
        "buildings = reduce_mem_usage(buildings)\n",
        "weather = reduce_mem_usage(weather)\n",
        "energy = reduce_mem_usage(energy)"
      ],
      "metadata": {
        "colab": {
          "base_uri": "https://localhost:8080/"
        },
        "id": "57VhsVXW8QXA",
        "outputId": "212b6ab6-c6fb-4f56-8cee-799d58763adc"
      },
      "execution_count": 5,
      "outputs": [
        {
          "output_type": "stream",
          "name": "stdout",
          "text": [
            "Споживання памяті меньше на 0.05Mb (мінус 73.9%)\n",
            "Споживання памяті меньше на 6.53Mb (мінус 68.1%)\n",
            "Споживання памяті меньше на 195.54Mb (мінус 53.1%)\n"
          ]
        }
      ]
    },
    {
      "cell_type": "code",
      "source": [
        "def round_fillna(df, columns):\n",
        "  for col in columns:\n",
        "    type_ = \"int8\"\n",
        "    if col in [\"wind_speed\", \"cloud_coverage\", \"precip_depth_1_hr\"]:\n",
        "      type_ = \"int16\"\n",
        "    if col == \"precip_depth_1_hr\":\n",
        "      df[col] = df[col].apply(lambda x: 0 if x < 0 else x)\n",
        "    df[col] = np.round(df[col].fillna(value=0)).astype(type_)\n",
        "  return df"
      ],
      "metadata": {
        "id": "eK9SsIMY8xYh"
      },
      "execution_count": 6,
      "outputs": []
    },
    {
      "cell_type": "code",
      "source": [
        "energy = pd.merge(left=energy, right=buildings, how=\"left\", left_on=\"building_id\", right_on=\"building_id\")\n",
        "\n",
        "energy.set_index([\"timestamp\", \"site_id\"], inplace=True)\n",
        "weather.set_index([\"timestamp\", \"site_id\"], inplace=True)\n",
        "\n",
        "energy = pd.merge(left=energy, right=weather, how=\"left\", left_index=True, right_index=True)\n",
        "energy.reset_index(inplace=True)\n",
        "energy = energy.drop(columns=[\"site_id\", \"meter\"], axis=1)\n",
        "\n",
        "energy = round_fillna(energy, [\"wind_direction\", \"wind_speed\", \"cloud_coverage\", \"precip_depth_1_hr\", \"year_built\", \"floor_count\"])\n",
        "energy = energy[energy['meter_reading'] > 0]\n",
        "\n",
        "del buildings\n",
        "del weather\n",
        "energy.info()"
      ],
      "metadata": {
        "colab": {
          "base_uri": "https://localhost:8080/"
        },
        "id": "60trna7W8eWR",
        "outputId": "216a03c2-de14-4050-ede5-df8e9547d3e4"
      },
      "execution_count": 7,
      "outputs": [
        {
          "output_type": "stream",
          "name": "stdout",
          "text": [
            "<class 'pandas.core.frame.DataFrame'>\n",
            "Int64Index: 11530741 entries, 45 to 12060909\n",
            "Data columns (total 14 columns):\n",
            " #   Column              Dtype         \n",
            "---  ------              -----         \n",
            " 0   timestamp           datetime64[ns]\n",
            " 1   building_id         int16         \n",
            " 2   meter_reading       float32       \n",
            " 3   primary_use         category      \n",
            " 4   square_feet         int32         \n",
            " 5   year_built          int8          \n",
            " 6   floor_count         int8          \n",
            " 7   air_temperature     float16       \n",
            " 8   cloud_coverage      int16         \n",
            " 9   dew_temperature     float16       \n",
            " 10  precip_depth_1_hr   int16         \n",
            " 11  sea_level_pressure  float16       \n",
            " 12  wind_direction      int8          \n",
            " 13  wind_speed          int16         \n",
            "dtypes: category(1), datetime64[ns](1), float16(3), float32(1), int16(4), int32(1), int8(3)\n",
            "memory usage: 461.9 MB\n"
          ]
        }
      ]
    },
    {
      "cell_type": "code",
      "source": [
        "data_corr_meta = pd.DataFrame(\n",
        "    energy.groupby(\"building_id\")[\"meter_reading\", \"year_built\", \"site_id\", \"square_feet\"].median()\n",
        ")\n",
        "data_corr_meta.dropna(inplace=True)\n",
        "sns.pairplot(data_corr_meta, height=6)\n",
        "plt.show()\n",
        "\n"
      ],
      "metadata": {
        "colab": {
          "base_uri": "https://localhost:8080/",
          "height": 449
        },
        "id": "s-c3y9Hj98vR",
        "outputId": "68ee5957-b3bc-4370-985b-0f89a91b7576"
      },
      "execution_count": 12,
      "outputs": [
        {
          "output_type": "stream",
          "name": "stderr",
          "text": [
            "<ipython-input-12-aa69b7bdc5f7>:2: FutureWarning: Indexing with multiple keys (implicitly converted to a tuple of keys) will be deprecated, use a list instead.\n",
            "  energy.groupby(\"building_id\")[\"meter_reading\", \"year_built\", \"site_id\", \"square_feet\"].median()\n"
          ]
        },
        {
          "output_type": "error",
          "ename": "KeyError",
          "evalue": "ignored",
          "traceback": [
            "\u001b[0;31m---------------------------------------------------------------------------\u001b[0m",
            "\u001b[0;31mKeyError\u001b[0m                                  Traceback (most recent call last)",
            "\u001b[0;32m<ipython-input-12-aa69b7bdc5f7>\u001b[0m in \u001b[0;36m<cell line: 1>\u001b[0;34m()\u001b[0m\n\u001b[1;32m      1\u001b[0m data_corr_meta = pd.DataFrame(\n\u001b[0;32m----> 2\u001b[0;31m     \u001b[0menergy\u001b[0m\u001b[0;34m.\u001b[0m\u001b[0mgroupby\u001b[0m\u001b[0;34m(\u001b[0m\u001b[0;34m\"building_id\"\u001b[0m\u001b[0;34m)\u001b[0m\u001b[0;34m[\u001b[0m\u001b[0;34m\"meter_reading\"\u001b[0m\u001b[0;34m,\u001b[0m \u001b[0;34m\"year_built\"\u001b[0m\u001b[0;34m,\u001b[0m \u001b[0;34m\"site_id\"\u001b[0m\u001b[0;34m,\u001b[0m \u001b[0;34m\"square_feet\"\u001b[0m\u001b[0;34m]\u001b[0m\u001b[0;34m.\u001b[0m\u001b[0mmedian\u001b[0m\u001b[0;34m(\u001b[0m\u001b[0;34m)\u001b[0m\u001b[0;34m\u001b[0m\u001b[0;34m\u001b[0m\u001b[0m\n\u001b[0m\u001b[1;32m      3\u001b[0m )\n\u001b[1;32m      4\u001b[0m \u001b[0mdata_corr_meta\u001b[0m\u001b[0;34m.\u001b[0m\u001b[0mdropna\u001b[0m\u001b[0;34m(\u001b[0m\u001b[0minplace\u001b[0m\u001b[0;34m=\u001b[0m\u001b[0;32mTrue\u001b[0m\u001b[0;34m)\u001b[0m\u001b[0;34m\u001b[0m\u001b[0;34m\u001b[0m\u001b[0m\n\u001b[1;32m      5\u001b[0m \u001b[0msns\u001b[0m\u001b[0;34m.\u001b[0m\u001b[0mpairplot\u001b[0m\u001b[0;34m(\u001b[0m\u001b[0mdata_corr_meta\u001b[0m\u001b[0;34m,\u001b[0m \u001b[0mheight\u001b[0m\u001b[0;34m=\u001b[0m\u001b[0;36m6\u001b[0m\u001b[0;34m)\u001b[0m\u001b[0;34m\u001b[0m\u001b[0;34m\u001b[0m\u001b[0m\n",
            "\u001b[0;32m/usr/local/lib/python3.10/dist-packages/pandas/core/groupby/generic.py\u001b[0m in \u001b[0;36m__getitem__\u001b[0;34m(self, key)\u001b[0m\n\u001b[1;32m   1414\u001b[0m                 \u001b[0mstacklevel\u001b[0m\u001b[0;34m=\u001b[0m\u001b[0mfind_stack_level\u001b[0m\u001b[0;34m(\u001b[0m\u001b[0;34m)\u001b[0m\u001b[0;34m,\u001b[0m\u001b[0;34m\u001b[0m\u001b[0;34m\u001b[0m\u001b[0m\n\u001b[1;32m   1415\u001b[0m             )\n\u001b[0;32m-> 1416\u001b[0;31m         \u001b[0;32mreturn\u001b[0m \u001b[0msuper\u001b[0m\u001b[0;34m(\u001b[0m\u001b[0;34m)\u001b[0m\u001b[0;34m.\u001b[0m\u001b[0m__getitem__\u001b[0m\u001b[0;34m(\u001b[0m\u001b[0mkey\u001b[0m\u001b[0;34m)\u001b[0m\u001b[0;34m\u001b[0m\u001b[0;34m\u001b[0m\u001b[0m\n\u001b[0m\u001b[1;32m   1417\u001b[0m \u001b[0;34m\u001b[0m\u001b[0m\n\u001b[1;32m   1418\u001b[0m     \u001b[0;32mdef\u001b[0m \u001b[0m_gotitem\u001b[0m\u001b[0;34m(\u001b[0m\u001b[0mself\u001b[0m\u001b[0;34m,\u001b[0m \u001b[0mkey\u001b[0m\u001b[0;34m,\u001b[0m \u001b[0mndim\u001b[0m\u001b[0;34m:\u001b[0m \u001b[0mint\u001b[0m\u001b[0;34m,\u001b[0m \u001b[0msubset\u001b[0m\u001b[0;34m=\u001b[0m\u001b[0;32mNone\u001b[0m\u001b[0;34m)\u001b[0m\u001b[0;34m:\u001b[0m\u001b[0;34m\u001b[0m\u001b[0;34m\u001b[0m\u001b[0m\n",
            "\u001b[0;32m/usr/local/lib/python3.10/dist-packages/pandas/core/base.py\u001b[0m in \u001b[0;36m__getitem__\u001b[0;34m(self, key)\u001b[0m\n\u001b[1;32m    236\u001b[0m             \u001b[0;32mif\u001b[0m \u001b[0mlen\u001b[0m\u001b[0;34m(\u001b[0m\u001b[0mself\u001b[0m\u001b[0;34m.\u001b[0m\u001b[0mobj\u001b[0m\u001b[0;34m.\u001b[0m\u001b[0mcolumns\u001b[0m\u001b[0;34m.\u001b[0m\u001b[0mintersection\u001b[0m\u001b[0;34m(\u001b[0m\u001b[0mkey\u001b[0m\u001b[0;34m)\u001b[0m\u001b[0;34m)\u001b[0m \u001b[0;34m!=\u001b[0m \u001b[0mlen\u001b[0m\u001b[0;34m(\u001b[0m\u001b[0mset\u001b[0m\u001b[0;34m(\u001b[0m\u001b[0mkey\u001b[0m\u001b[0;34m)\u001b[0m\u001b[0;34m)\u001b[0m\u001b[0;34m:\u001b[0m\u001b[0;34m\u001b[0m\u001b[0;34m\u001b[0m\u001b[0m\n\u001b[1;32m    237\u001b[0m                 \u001b[0mbad_keys\u001b[0m \u001b[0;34m=\u001b[0m \u001b[0mlist\u001b[0m\u001b[0;34m(\u001b[0m\u001b[0mset\u001b[0m\u001b[0;34m(\u001b[0m\u001b[0mkey\u001b[0m\u001b[0;34m)\u001b[0m\u001b[0;34m.\u001b[0m\u001b[0mdifference\u001b[0m\u001b[0;34m(\u001b[0m\u001b[0mself\u001b[0m\u001b[0;34m.\u001b[0m\u001b[0mobj\u001b[0m\u001b[0;34m.\u001b[0m\u001b[0mcolumns\u001b[0m\u001b[0;34m)\u001b[0m\u001b[0;34m)\u001b[0m\u001b[0;34m\u001b[0m\u001b[0;34m\u001b[0m\u001b[0m\n\u001b[0;32m--> 238\u001b[0;31m                 \u001b[0;32mraise\u001b[0m \u001b[0mKeyError\u001b[0m\u001b[0;34m(\u001b[0m\u001b[0;34mf\"Columns not found: {str(bad_keys)[1:-1]}\"\u001b[0m\u001b[0;34m)\u001b[0m\u001b[0;34m\u001b[0m\u001b[0;34m\u001b[0m\u001b[0m\n\u001b[0m\u001b[1;32m    239\u001b[0m             \u001b[0;32mreturn\u001b[0m \u001b[0mself\u001b[0m\u001b[0;34m.\u001b[0m\u001b[0m_gotitem\u001b[0m\u001b[0;34m(\u001b[0m\u001b[0mlist\u001b[0m\u001b[0;34m(\u001b[0m\u001b[0mkey\u001b[0m\u001b[0;34m)\u001b[0m\u001b[0;34m,\u001b[0m \u001b[0mndim\u001b[0m\u001b[0;34m=\u001b[0m\u001b[0;36m2\u001b[0m\u001b[0;34m)\u001b[0m\u001b[0;34m\u001b[0m\u001b[0;34m\u001b[0m\u001b[0m\n\u001b[1;32m    240\u001b[0m \u001b[0;34m\u001b[0m\u001b[0m\n",
            "\u001b[0;31mKeyError\u001b[0m: \"Columns not found: 'site_id'\""
          ]
        }
      ]
    }
  ]
}